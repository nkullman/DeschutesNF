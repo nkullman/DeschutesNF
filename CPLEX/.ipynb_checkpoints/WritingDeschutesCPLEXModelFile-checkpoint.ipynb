{
 "cells": [
  {
   "cell_type": "markdown",
   "metadata": {},
   "source": [
    "# Writing Deschutes NF multi-objective CPLEX model file"
   ]
  },
  {
   "cell_type": "code",
   "execution_count": 1,
   "metadata": {
    "collapsed": true
   },
   "outputs": [],
   "source": [
    "import pandas as pd\n",
    "import numpy as np"
   ]
  },
  {
   "cell_type": "code",
   "execution_count": 2,
   "metadata": {
    "collapsed": false
   },
   "outputs": [],
   "source": [
    "# Define object that is a body of all required data for the model file\n",
    "class DeschutesModelData:\n",
    "    def __init__(self, areas, fire, sed, clusters, nsoCands,\n",
    "                 maxPerPeriodTrt, interPeriodFluctuation, nsoHabSizeDiscount):\n",
    "        self.areas = areas\n",
    "        self.stands = areas[\"stand\"]\n",
    "        self.fire = fire\n",
    "        self.climProjections = fire[\"climateScenario\"].unique().tolist()\n",
    "        self.sed = sed\n",
    "        self.clusters = clusters\n",
    "        self.nsoCands = nsoCands\n",
    "        self.maxPerPeriodTrt = maxPerPeriodTrt\n",
    "        self.interPeriodFluctuation = interPeriodFluctuation\n",
    "        self.nsoHabSizeDiscount = nsoHabSizeDiscount"
   ]
  },
  {
   "cell_type": "code",
   "execution_count": 3,
   "metadata": {
    "collapsed": true
   },
   "outputs": [],
   "source": [
    "# Instantiate a DeschutesModelData object with our data files\n",
    "dmd = DeschutesModelData(areas = pd.read_csv(\"data/standAreas_test.csv\"),\n",
    "                         fire = pd.read_csv(\"data/fire_test.csv\"),\n",
    "                         sed = pd.read_csv(\"data/sed_wClim_test.csv\"),\n",
    "                         clusters = pd.read_csv(\"data/clusters_test.csv\"),\n",
    "                         nsoCands = pd.read_csv(\"data/standNSOCandidacy_wTrtTimes_test.csv\"),\n",
    "                         maxPerPeriodTrt = 6000,\n",
    "                         interPeriodFluctuation = 0.2,\n",
    "                         nsoHabSizeDiscount = 0.5)"
   ]
  },
  {
   "cell_type": "code",
   "execution_count": 4,
   "metadata": {
    "collapsed": true
   },
   "outputs": [],
   "source": [
    "# Method writes the constraint defining the fire objective\n",
    "def writeFireObjDefinition(model, fireTable):\n",
    "    model.write(\"FireObjective: \")\n",
    "    for index, row in fireTable.iterrows(): # for each stand\n",
    "        s = str(int(row.stand))\n",
    "        for idx, val in enumerate(row[\"trtInNeither\":]): # and for each treatment scenario,\n",
    "            # write obj fn terms for associated reduction in fire hazard\n",
    "            if val < 0:\n",
    "                model.write(\" \" + str(val) + \" x_\" + s + \"_\" + str(idx))\n",
    "            else:\n",
    "                model.write(\" + \" + str(val) + \" x_\" + s + \"_\" + str(idx))\n",
    "        model.write(\"\\n\") # move on to next stand\n",
    "    model.write(\" - FireHazardReduction = 0\\n\") # terminate constraint"
   ]
  },
  {
   "cell_type": "code",
   "execution_count": 5,
   "metadata": {
    "collapsed": false
   },
   "outputs": [],
   "source": [
    "# Method writes the constraint defining the owl objective\n",
    "def writeOwlObjDefinition(model, owlTable, areas, discount):\n",
    "    owl = owlTable.merge(areas, how=\"left\", on=\"stand\")\n",
    "    owl = owl[[\"stand\",\"area\",\"trtInNeither\",\"trtIn1\",\"trtIn2\",\"trtInBoth\"]]\n",
    "    model.write(\"OwlObjective: \")\n",
    "    for index, row in owl.iterrows():\n",
    "        s = str(int(row.stand))\n",
    "        a = row.area\n",
    "        if sum(row[\"trtInNeither\":]) > 0: # If the stand qualifies as NSO habitat in at least one treatment scenario...\n",
    "            # Then the site enters the objective function. We begin by writing its trigger var's for p\n",
    "            # (the following write statement could be shortened, but leaving it as two terms makes the logic more obvious)\n",
    "            model.write(str(a) + \" p_\" + s + \" - \" + str(discount*a) + \" p_\" + s)\n",
    "            for idx, val in enumerate(row[\"trtInNeither\":]): # Next we sum up over the treatment scenarios...\n",
    "                if val > 0: # in which the stand qualifies as NSO habitat (val will be 1)\n",
    "                    model.write(\" + \" + str(discount*a) + \" x_\" + s + \"_\" + str(idx))\n",
    "            model.write(\"\\n\") # move on to next stand\n",
    "    model.write(\" - OwlHabitat = 0\\n\") # terminate constraint               "
   ]
  },
  {
   "cell_type": "code",
   "execution_count": 6,
   "metadata": {
    "collapsed": true
   },
   "outputs": [],
   "source": [
    "# Method writes the constraints defining the sediment objective\n",
    "def writeSedimentObjDefinition(model, sedTable):\n",
    "    # Begin with defining the increased sediment delivery in the first period, S1\n",
    "    model.write(\"DefineS1: \")\n",
    "    for index, row in sedTable.iterrows(): # for each stand\n",
    "        s = str(int(row.stand))\n",
    "        c1 = str(row.trtIn1 - row.baseline) # contribution to increased sediment delivery in first period (above baseline)\n",
    "        model.write(\" + \" + c1 + \" x_\" + s + \"_1\" + \" + \" + c1 + \" x_\" + s + \"_3\\n\")\n",
    "    model.write(\" - S1 = 0\\n\")\n",
    "    # Now define the increased sediment delivery in the second period, S2\n",
    "    model.write(\"DefineS2: \")\n",
    "    for index, row in sedTable.iterrows(): # for each stand\n",
    "        s = str(int(row.stand))\n",
    "        c2 = str(row.trtIn2 - row.baseline) # contribution to increased sediment delivery in second period (above baseline)\n",
    "        model.write(\" + \" + c2 + \" x_\" + s + \"_2\" + \" + \" + c2 + \" x_\" + s + \"_3\\n\")\n",
    "    model.write(\" - S2 = 0\\n\")\n",
    "    # Finally, require the objective MaxSediment to be the max of these two\n",
    "    model.write(\"MaxSedimentGES1: MaxSediment - S1 >= 0\\n\")\n",
    "    model.write(\"MaxSedimentGES2: MaxSediment - S2 >= 0\\n\")"
   ]
  },
  {
   "cell_type": "code",
   "execution_count": null,
   "metadata": {
    "collapsed": true
   },
   "outputs": [],
   "source": [
    "# Method writes the constraints defining the cluster variable triggers, q_c\n",
    "def writeClusterVarTriggers(model, dmd):\n",
    "    for index, row in dmd.clusters.iterrows():\n",
    "        c = str(int(row.CL))\n",
    "        \n",
    "        model.write(\"QVarTrigger"
   ]
  },
  {
   "cell_type": "code",
   "execution_count": 7,
   "metadata": {
    "collapsed": true
   },
   "outputs": [],
   "source": [
    "# Method writes constratint requiring exactly on treatment prescription per site\n",
    "def writeOnePrescripPerSite(model, dmd):\n",
    "    # We will iterate through all stands once. We need access to the treatment prescriptions, so we use a class attribute that contains them - we chose fire here\n",
    "    for index, row in dmd.fire.loc[dmd.fire.climateScenario == \"none\"].iterrows():\n",
    "        s = str(int(row.stand))\n",
    "        model.write(\"OneTrtPrescription_\" + s + \": \")\n",
    "        for idx, val in enumerate(row[\"trtInNeither\":]):\n",
    "            model.write(\" + x_\" + s + \"_\" + str(idx))\n",
    "        model.write(\" = 1\\n\")"
   ]
  },
  {
   "cell_type": "code",
   "execution_count": 8,
   "metadata": {
    "collapsed": true
   },
   "outputs": [],
   "source": [
    "# Method writes constraints defining and restricting the area treated in each time period\n",
    "def writeMaxAreaTreatedThresh(model, dmd):\n",
    "    # Defining the area treated in the first time period\n",
    "    model.write(\"DefineTreatedArea_1: \")\n",
    "    for index, row in dmd.areas.iterrows(): # for each stand...\n",
    "        s = str(int(row.stand))\n",
    "        a = str(row.area)\n",
    "        model.write(\" + \" + a + \" x_\" + s + \"_1\" + \" + \" + a + \" x_\" + s + \"_3\\n\")\n",
    "    model.write(\" - A1 = 0\\n\")\n",
    "    # Restricting first period area\n",
    "    model.write(\"RestrictMaxArea_1: A1 <= \" + str(dmd.maxPerPeriodTrt) + \"\\n\")\n",
    "    # Defining the treated area in the second time period\n",
    "    model.write(\"DefineTreatedArea_2: \")\n",
    "    for index, row in dmd.areas.iterrows(): # for each stand...\n",
    "        s = str(int(row.stand))\n",
    "        a = str(row.area)\n",
    "        model.write(\" + \" + a + \" x_\" + s + \"_2\" + \" + \" + a + \" x_\" + s + \"_3\\n\")\n",
    "    model.write(\" - A2 = 0\\n\")\n",
    "    model.write(\"RestrictMaxArea_2: A2 <= \" + str(dmd.maxPerPeriodTrt) + \"\\n\")"
   ]
  },
  {
   "cell_type": "code",
   "execution_count": 9,
   "metadata": {
    "collapsed": true
   },
   "outputs": [],
   "source": [
    "# Method writes constraint restricting the inter-period treatment area fluctuation\n",
    "def writeTreatedAreaFluctThresh(model,dmd):\n",
    "    model.write(\"LowerBoundOnFluctuation: \" + str(1 - dmd.interPeriodFluctuation) + \" A1 - A2 <= 0\\n\")\n",
    "    model.write(\"UpperBoundOnFluctuation: \" + str(1 + dmd.interPeriodFluctuation) + \" A1 - A2 >= 0\\n\")"
   ]
  },
  {
   "cell_type": "code",
   "execution_count": 10,
   "metadata": {
    "collapsed": true
   },
   "outputs": [],
   "source": [
    "# Larger umbrella methods for the writing of the CPLEX model file\n",
    "def writeObjective(model):\n",
    "    model.write(\"MAXIMIZE\\n\")\n",
    "    model.write(\"OBJECTIVE: FireHazardReduction + OwlHabitat - MaxSediment\\n\\n\")\n",
    "\n",
    "def writeConstraints(model, clim, dmd):\n",
    "    model.write(\"Subject To:\\n\")\n",
    "    writeFireObjDefinition(model, dmd.fire.loc[dmd.fire.climateScenario == clim])\n",
    "    writeOwlObjDefinition(model, dmd.nsoCands.loc[dmd.nsoCands.climateScenario == clim], dmd.areas, dmd.nsoHabSizeDiscount)\n",
    "    writeSedimentObjDefinition(model, dmd.sed.loc[dmd.sed.climate == clim])\n",
    "    #writeClusterVarTriggers(model, dmd) # the per-cluster constraints (eq 5 in SEFS 540 final report)\n",
    "    #writeOwlClusterSiteTriggers(model, dmd) # the per-site constraints on the value of p_i\n",
    "    writeOnePrescripPerSite(model, dmd)\n",
    "    writeMaxAreaTreatedThresh(model, dmd) # per time period, sum of area treated < maxPerPeriodTrt\n",
    "    writeTreatedAreaFluctThresh(model, dmd) # difference in period to period treatment areas\n",
    "    model.write(\"\\n\")\n",
    "    \n",
    "def writeVariableStatement(model, dmd):\n",
    "    model.write(\"BINARY\\n\")\n",
    "    #writeBinaryVarStmt(model, dmd)\n",
    "    model.write(\"\\n\")"
   ]
  },
  {
   "cell_type": "code",
   "execution_count": 11,
   "metadata": {
    "collapsed": false
   },
   "outputs": [],
   "source": [
    "# Write set of CPLEX model files\n",
    "for clim in dmd.climProjections:\n",
    "    with open(\"modelFiles/testModel_\" + clim + \".txt\", \"w\") as model:\n",
    "        model.write(\"\\\\ Deschutes NF model file for climate scenario \" + clim + \"\\n\")\n",
    "        writeObjective(model)\n",
    "        writeConstraints(model, clim, dmd)\n",
    "        writeVariableStatement(model, dmd)\n",
    "        model.write(\"\\nEND\\n\")\n",
    "    model.closed"
   ]
  },
  {
   "cell_type": "code",
   "execution_count": 25,
   "metadata": {
    "collapsed": false
   },
   "outputs": [
    {
     "name": "stdout",
     "output_type": "stream",
     "text": [
      "CL      1\n",
      "S1      2\n",
      "S2    114\n",
      "S3    296\n",
      "S4     66\n",
      "S5    275\n",
      "S6    144\n",
      "S7    215\n",
      "S8    289\n",
      "Name: 0, dtype: int64\n",
      "CL      2\n",
      "S1      2\n",
      "S2    114\n",
      "S3    296\n",
      "S4     66\n",
      "S5    275\n",
      "S6    144\n",
      "S7    215\n",
      "S8     53\n",
      "Name: 1, dtype: int64\n",
      "CL      3\n",
      "S1      2\n",
      "S2    114\n",
      "S3    296\n",
      "S4     66\n",
      "S5    275\n",
      "S6    144\n",
      "S7    215\n",
      "S8      9\n",
      "Name: 2, dtype: int64\n"
     ]
    }
   ],
   "source": [
    "# Experimentation for making the cluster constraints\n",
    "for index, row in dmd.clusters.iterrows():\n",
    "    c = str(int(row.CL))\n",
    "    # sites = row[\"S1\":] but only where this is > 0...\n",
    "    # k = cardinality of sites. then other stuff...\n",
    "    if index > 2:\n",
    "        break\n",
    "    print row[row > 0]"
   ]
  }
 ],
 "metadata": {
  "kernelspec": {
   "display_name": "Python 2",
   "language": "python",
   "name": "python2"
  },
  "language_info": {
   "codemirror_mode": {
    "name": "ipython",
    "version": 2
   },
   "file_extension": ".py",
   "mimetype": "text/x-python",
   "name": "python",
   "nbconvert_exporter": "python",
   "pygments_lexer": "ipython2",
   "version": "2.7.9"
  }
 },
 "nbformat": 4,
 "nbformat_minor": 0
}
