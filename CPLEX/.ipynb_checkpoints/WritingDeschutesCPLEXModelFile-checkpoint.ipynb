{
 "cells": [
  {
   "cell_type": "markdown",
   "metadata": {},
   "source": [
    "# Writing Deschutes NF multi-objective CPLEX model file"
   ]
  },
  {
   "cell_type": "code",
   "execution_count": 1,
   "metadata": {
    "collapsed": true
   },
   "outputs": [],
   "source": [
    "import pandas as pd\n",
    "import numpy as np"
   ]
  },
  {
   "cell_type": "code",
   "execution_count": 2,
   "metadata": {
    "collapsed": false
   },
   "outputs": [],
   "source": [
    "# Define object that is a body of all req'd data for the model file\n",
    "class DeschutesModelData:\n",
    "    def __init__(self, areas, fire, sed, clusters, nsoCands,\n",
    "                 maxPerPeriodTrt, interPeriodFluctuation, nsoHabSizeDiscount):\n",
    "        self.areas = areas\n",
    "        self.stands = areas[\"stand\"]\n",
    "        self.fire = fire\n",
    "        self.climProjections = fire[\"climateScenario\"].unique().tolist()\n",
    "        self.sed = sed\n",
    "        self.clusters = clusters\n",
    "        self.nsoCands = nsoCands\n",
    "        self.maxPerPeriodTrt = maxPerPeriodTrt\n",
    "        self.interPeriodFluctuation = interPeriodFluctuation\n",
    "        self.nsoHabSizeDiscount = nsoHabSizeDiscount"
   ]
  },
  {
   "cell_type": "code",
   "execution_count": 3,
   "metadata": {
    "collapsed": true
   },
   "outputs": [],
   "source": [
    "# Instantiate a DeschutesModelData object with our data files\n",
    "dmd = DeschutesModelData(areas = pd.read_csv(\"data/standAreas_test.csv\"),\n",
    "                         fire = pd.read_csv(\"data/fire_test.csv\"),\n",
    "                         sed = pd.read_csv(\"data/sed_wClim_test.csv\"),\n",
    "                         clusters = pd.read_csv(\"data/clusters_test.csv\"),\n",
    "                         nsoCands = pd.read_csv(\"data/standNSOCandidacy_wTrtTimes_test.csv\"),\n",
    "                         maxPerPeriodTrt = 6000,\n",
    "                         interPeriodFluctuation = 0.2,\n",
    "                         nsoHabSizeDiscount = 0.5)"
   ]
  },
  {
   "cell_type": "code",
   "execution_count": 4,
   "metadata": {
    "collapsed": true
   },
   "outputs": [],
   "source": [
    "# Create method to write the constraint defining the fire objective\n",
    "def writeFireObjDefinition(model, fireTable):\n",
    "    model.write(\"FireObjective: \")\n",
    "    for index, row in fireTable.iterrows():\n",
    "        s = str(int(row.stand))\n",
    "        for idx, val in enumerate(row[\"trtInNeither\":]):\n",
    "            if val < 0:\n",
    "                model.write(\" \" + str(val) + \" x_\" + s + \"_\" + str(idx))\n",
    "            else:\n",
    "                model.write(\" + \" + str(val) + \" x_\" + s + \"_\" + str(idx))\n",
    "        model.write(\"\\n\")\n",
    "    model.write(\" - FireHazardReduction = 0\\n\")"
   ]
  },
  {
   "cell_type": "code",
   "execution_count": 10,
   "metadata": {
    "collapsed": false
   },
   "outputs": [],
   "source": [
    "# Create method to write the constraint defining the owl objective\n",
    "def writeOwlObjDefinition(model, owlTable, areas, discount):\n",
    "    owl = owlTable.merge(areas, how=\"left\", on=\"stand\")\n",
    "    owl = owl[[\"stand\",\"area\",\"trtInNeither\",\"trtIn1\",\"trtIn2\",\"trtInBoth\"]]\n",
    "    model.write(\"OwlObjective: \")\n",
    "    for index, row in owl.iterrows():\n",
    "        s = str(int(row.stand))\n",
    "        a = row.area\n",
    "        if sum(row[\"trtInNeither\":]) > 0: # If the stand qualifies as NSO habitat in at least one treatment scenario...\n",
    "            model.write(str(a) + \" p_\" + s + \" - \" + str(discount*a) + \" p_\" + s) # Then the site may contribute to the objective function\n",
    "            for idx, val in enumerate(row[\"trtInNeither\":]): # So we sum up over treatment scenarios...\n",
    "                if val > 0: # in which the stand qualifies for NSO habitat (val will be 1)\n",
    "                    model.write(\" + \" + str(discount*a) + \" x_\" + s + \"_\" + str(idx))\n",
    "            model.write(\"\\n\")\n",
    "    model.write(\" - OwlHabitat = 0\\n\")\n",
    "                "
   ]
  },
  {
   "cell_type": "code",
   "execution_count": 7,
   "metadata": {
    "collapsed": true
   },
   "outputs": [],
   "source": [
    "# Umbrella methods for the writing of the CPLEX model file\n",
    "def writeObjective(model):\n",
    "    model.write(\"MAXIMIZE\\n\")\n",
    "    model.write(\"OBJECTIVE: FireHazardReduction + OwlHabitat - MaxSediment\\n\\n\")\n",
    "\n",
    "def writeConstraints(model, clim, dmd):\n",
    "    model.write(\"Subject To:\\n\")\n",
    "    writeFireObjDefinition(model, dmd.fire.loc[dmd.fire.climateScenario == clim])\n",
    "    writeOwlObjDefinition(model, dmd.nsoCands.loc[dmd.nsoCands.climateScenario == clim], dmd.areas, dmd.nsoHabSizeDiscount)\n",
    "    #writeSedimentObjDefinition(model, dmd)\n",
    "    #writeClusterVarTriggers(model, dmd) # the per-cluster constraints (eq 5 in SEFS 540 final report)\n",
    "    #writeOwlClusterSiteTriggers(model, dmd) # the per-site constraints on the value of p_i\n",
    "    #writeOnePrescripPerSite(model, dmd) # per-site, sum of prescriptions is 1\n",
    "    #writeMaxAreaTreatedThresh(model, dmd) # per time period, sum of area treated < maxPerPeriodTrt\n",
    "    #writeTreatedAreaFluctThresh(model, dmd) # difference in period to period treatment areas\n",
    "    model.write(\"\\n\")\n",
    "    \n",
    "def writeVariableStatement(model, dmd):\n",
    "    model.write(\"BINARY\\n\")\n",
    "    #writeBinaryVarStmt(model, dmd)\n",
    "    model.write(\"\\n\")"
   ]
  },
  {
   "cell_type": "code",
   "execution_count": 11,
   "metadata": {
    "collapsed": false
   },
   "outputs": [],
   "source": [
    "# Write set of CPLEX model files\n",
    "\n",
    "for clim in dmd.climProjections:\n",
    "    with open(\"modelFiles/testModel_\" + clim + \".txt\", \"w\") as model:\n",
    "        model.write(\"\\\\ Deschutes NF model file for climate scenario \" + clim + \"\\n\")\n",
    "        writeObjective(model)\n",
    "        writeConstraints(model, clim, dmd)\n",
    "        writeVariableStatement(model, dmd)\n",
    "        model.write(\"\\nEND\\n\")\n",
    "    model.closed"
   ]
  },
  {
   "cell_type": "code",
   "execution_count": null,
   "metadata": {
    "collapsed": false
   },
   "outputs": [],
   "source": []
  }
 ],
 "metadata": {
  "kernelspec": {
   "display_name": "Python 2",
   "language": "python",
   "name": "python2"
  },
  "language_info": {
   "codemirror_mode": {
    "name": "ipython",
    "version": 2
   },
   "file_extension": ".py",
   "mimetype": "text/x-python",
   "name": "python",
   "nbconvert_exporter": "python",
   "pygments_lexer": "ipython2",
   "version": "2.7.9"
  }
 },
 "nbformat": 4,
 "nbformat_minor": 0
}
