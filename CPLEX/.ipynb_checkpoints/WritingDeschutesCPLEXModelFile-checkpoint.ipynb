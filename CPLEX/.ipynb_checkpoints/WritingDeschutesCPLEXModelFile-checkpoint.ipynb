{
 "cells": [
  {
   "cell_type": "markdown",
   "metadata": {},
   "source": [
    "# Writing Deschutes NF multi-objective CPLEX model file"
   ]
  },
  {
   "cell_type": "code",
   "execution_count": 1,
   "metadata": {
    "collapsed": true
   },
   "outputs": [],
   "source": [
    "import pandas as pd\n",
    "import numpy as np"
   ]
  },
  {
   "cell_type": "code",
   "execution_count": 2,
   "metadata": {
    "collapsed": false
   },
   "outputs": [],
   "source": [
    "# Define object that is a body of all required data for the model file\n",
    "class DeschutesModelData:\n",
    "    def __init__(self, areas, fire, sed, clusters, nsoCands,\n",
    "                 maxPerPeriodTrt, interPeriodFluctuation, nsoHabSizeDiscount):\n",
    "        self.areas = areas\n",
    "        self.stands = areas[\"stand\"]\n",
    "        self.fire = fire\n",
    "        self.climProjections = fire[\"climateScenario\"].unique().tolist()\n",
    "        self.sed = sed\n",
    "        self.clusters = clusters\n",
    "        self.nsoCands = nsoCands\n",
    "        self.maxPerPeriodTrt = maxPerPeriodTrt\n",
    "        self.interPeriodFluctuation = interPeriodFluctuation\n",
    "        self.nsoHabSizeDiscount = nsoHabSizeDiscount"
   ]
  },
  {
   "cell_type": "code",
   "execution_count": 3,
   "metadata": {
    "collapsed": true
   },
   "outputs": [],
   "source": [
    "# Instantiate a DeschutesModelData object with our data files\n",
    "dmd = DeschutesModelData(areas = pd.read_csv(\"data/standAreas_test.csv\"),\n",
    "                         fire = pd.read_csv(\"data/fire_test.csv\"),\n",
    "                         sed = pd.read_csv(\"data/sed_wClim_test.csv\"),\n",
    "                         clusters = pd.read_csv(\"data/clusters_test.csv\"),\n",
    "                         nsoCands = pd.read_csv(\"data/standNSOCandidacy_wTrtTimes_test.csv\"),\n",
    "                         maxPerPeriodTrt = 6000,\n",
    "                         interPeriodFluctuation = 0.2,\n",
    "                         nsoHabSizeDiscount = 0.5)"
   ]
  },
  {
   "cell_type": "code",
   "execution_count": 4,
   "metadata": {
    "collapsed": true
   },
   "outputs": [],
   "source": [
    "# Create method to write the constraint defining the fire objective\n",
    "def writeFireObjDefinition(model, fireTable):\n",
    "    model.write(\"FireObjective: \")\n",
    "    for index, row in fireTable.iterrows(): # for each stand\n",
    "        s = str(int(row.stand))\n",
    "        for idx, val in enumerate(row[\"trtInNeither\":]): # and for each treatment scenario,\n",
    "            # write obj fn terms for associated reduction in fire hazard\n",
    "            if val < 0:\n",
    "                model.write(\" \" + str(val) + \" x_\" + s + \"_\" + str(idx))\n",
    "            else:\n",
    "                model.write(\" + \" + str(val) + \" x_\" + s + \"_\" + str(idx))\n",
    "        model.write(\"\\n\") # move on to next stand\n",
    "    model.write(\" - FireHazardReduction = 0\\n\") # terminate constraint"
   ]
  },
  {
   "cell_type": "code",
   "execution_count": 5,
   "metadata": {
    "collapsed": false
   },
   "outputs": [],
   "source": [
    "# Create method to write the constraint defining the owl objective\n",
    "def writeOwlObjDefinition(model, owlTable, areas, discount):\n",
    "    owl = owlTable.merge(areas, how=\"left\", on=\"stand\")\n",
    "    owl = owl[[\"stand\",\"area\",\"trtInNeither\",\"trtIn1\",\"trtIn2\",\"trtInBoth\"]]\n",
    "    model.write(\"OwlObjective: \")\n",
    "    for index, row in owl.iterrows():\n",
    "        s = str(int(row.stand))\n",
    "        a = row.area\n",
    "        if sum(row[\"trtInNeither\":]) > 0: # If the stand qualifies as NSO habitat in at least one treatment scenario...\n",
    "            # Then the site enters the objective function. We begin by writing its trigger var's for p\n",
    "            # (the following write statement could be shortened, but leaving it as two terms makes the logic more obvious)\n",
    "            model.write(str(a) + \" p_\" + s + \" - \" + str(discount*a) + \" p_\" + s)\n",
    "            for idx, val in enumerate(row[\"trtInNeither\":]): # Next we sum up over the treatment scenarios...\n",
    "                if val > 0: # in which the stand qualifies as NSO habitat (val will be 1)\n",
    "                    model.write(\" + \" + str(discount*a) + \" x_\" + s + \"_\" + str(idx))\n",
    "            model.write(\"\\n\") # move on to next stand\n",
    "    model.write(\" - OwlHabitat = 0\\n\") # terminate constraint               "
   ]
  },
  {
   "cell_type": "code",
   "execution_count": 6,
   "metadata": {
    "collapsed": true
   },
   "outputs": [],
   "source": [
    "# Create method to write the constraints defining the sediment objective\n",
    "def writeSedimentObjDefinition(model, sedTable):\n",
    "    # Begin with defining the increased sediment delivery in the first period, S1\n",
    "    model.write(\"DefineS1: \")\n",
    "    for index, row in sedTable.iterrows(): # for each stand\n",
    "        s = str(int(row.stand))\n",
    "        c1 = str(row.trtIn1 - row.baseline) # contribution to increased sediment delivery in first period (above baseline)\n",
    "        model.write(\" + \" + c1 + \" x_\" + s + \"_1\" + \" + \" + c1 + \" x_\" + s + \"_3\\n\")\n",
    "    model.write(\" - S1 = 0\\n\")\n",
    "    # Now define the increased sediment delivery in the second period, S2\n",
    "    model.write(\"DefineS2: \")\n",
    "    for index, row in sedTable.iterrows(): # for each stand\n",
    "        s = str(int(row.stand))\n",
    "        c2 = str(row.trtIn2 - row.baseline) # contribution to increased sediment delivery in second period (above baseline)\n",
    "        model.write(\" + \" + c2 + \" x_\" + s + \"_2\" + \" + \" + c2 + \" x_\" + s + \"_3\\n\")\n",
    "    model.write(\" - S2 = 0\\n\")\n",
    "    # Finally, require the objective MaxSediment to be the max of these two\n",
    "    model.write(\"MaxSedimentGES1: MaxSediment - S1 >= 0\\n\")\n",
    "    model.write(\"MaxSedimentGES2: MaxSediment - S2 >= 0\\n\")"
   ]
  },
  {
   "cell_type": "code",
   "execution_count": 11,
   "metadata": {
    "collapsed": true
   },
   "outputs": [],
   "source": [
    "# Create method to write constratint requiring exactly on treatment prescription per site\n",
    "def writeOnePrescripPerSite(model, dmd):\n",
    "    # We will iterate through all stands once. We need access to the treatment prescriptions, so we use a class attribute that contains them - we chose fire here\n",
    "    for index, row in dmd.fire.loc[dmd.fire.climateScenario == \"none\"].iterrows():\n",
    "        s = str(int(row.stand))\n",
    "        model.write(\"OneTrtPrescription_\" + s + \": \")\n",
    "        for idx, val in enumerate(row[\"trtInNeither\":]):\n",
    "            model.write(\" + x_\" + s + \"_\" + str(idx))\n",
    "        model.write(\" = 1\\n\")"
   ]
  },
  {
   "cell_type": "code",
   "execution_count": 14,
   "metadata": {
    "collapsed": true
   },
   "outputs": [],
   "source": [
    "# Create method to write constraint limiting the area that can be treated in any time period\n",
    "def writeMaxAreaTreatedThresh(model, dmd):\n",
    "    # First, the restriction on area in the first time period\n",
    "    model.write(\"MaxArea_1: \")\n",
    "    for index, row in dmd.areas.iterrows(): # for each stand...\n",
    "        s = str(int(row.stand))\n",
    "        a = str(row.area)\n",
    "        model.write(\" + \" + a + \" x_\" + s + \"_1\" + \" + \" + a + \" x_\" + s + \"_3\\n\")\n",
    "    model.write(\" <= \" + str(dmd.maxPerPeriodTrt) + \"\\n\")\n",
    "    # Now the restriction on treated area in the second time period\n",
    "    model.write(\"MaxArea_2: \")\n",
    "    for index, row in dmd.areas.iterrows(): # for each stand...\n",
    "        s = str(int(row.stand))\n",
    "        a = str(row.area)\n",
    "        model.write(\" + \" + a + \" x_\" + s + \"_2\" + \" + \" + a + \" x_\" + s + \"_3\\n\")\n",
    "    model.write(\" <= \" + str(dmd.maxPerPeriodTrt) + \"\\n\")"
   ]
  },
  {
   "cell_type": "code",
   "execution_count": 17,
   "metadata": {
    "collapsed": true
   },
   "outputs": [],
   "source": [
    "# Larger umbrella methods for the writing of the CPLEX model file\n",
    "def writeObjective(model):\n",
    "    model.write(\"MAXIMIZE\\n\")\n",
    "    model.write(\"OBJECTIVE: FireHazardReduction + OwlHabitat - MaxSediment\\n\\n\")\n",
    "\n",
    "def writeConstraints(model, clim, dmd):\n",
    "    model.write(\"Subject To:\\n\")\n",
    "    writeFireObjDefinition(model, dmd.fire.loc[dmd.fire.climateScenario == clim])\n",
    "    writeOwlObjDefinition(model, dmd.nsoCands.loc[dmd.nsoCands.climateScenario == clim], dmd.areas, dmd.nsoHabSizeDiscount)\n",
    "    writeSedimentObjDefinition(model, dmd.sed.loc[dmd.sed.climate == clim])\n",
    "    #writeClusterVarTriggers(model, dmd) # the per-cluster constraints (eq 5 in SEFS 540 final report)\n",
    "    #writeOwlClusterSiteTriggers(model, dmd) # the per-site constraints on the value of p_i\n",
    "    writeOnePrescripPerSite(model, dmd)\n",
    "    writeMaxAreaTreatedThresh(model, dmd) # per time period, sum of area treated < maxPerPeriodTrt\n",
    "    #writeTreatedAreaFluctThresh(model, dmd) # difference in period to period treatment areas\n",
    "    model.write(\"\\n\")\n",
    "    \n",
    "def writeVariableStatement(model, dmd):\n",
    "    model.write(\"BINARY\\n\")\n",
    "    #writeBinaryVarStmt(model, dmd)\n",
    "    model.write(\"\\n\")"
   ]
  },
  {
   "cell_type": "code",
   "execution_count": 18,
   "metadata": {
    "collapsed": false
   },
   "outputs": [
    {
     "ename": "TypeError",
     "evalue": "cannot concatenate 'str' and 'int' objects",
     "output_type": "error",
     "traceback": [
      "\u001b[1;31m---------------------------------------------------------------------------\u001b[0m",
      "\u001b[1;31mTypeError\u001b[0m                                 Traceback (most recent call last)",
      "\u001b[1;32m<ipython-input-18-6efee7e63a4b>\u001b[0m in \u001b[0;36m<module>\u001b[1;34m()\u001b[0m\n\u001b[0;32m      4\u001b[0m         \u001b[0mmodel\u001b[0m\u001b[1;33m.\u001b[0m\u001b[0mwrite\u001b[0m\u001b[1;33m(\u001b[0m\u001b[1;34m\"\\\\ Deschutes NF model file for climate scenario \"\u001b[0m \u001b[1;33m+\u001b[0m \u001b[0mclim\u001b[0m \u001b[1;33m+\u001b[0m \u001b[1;34m\"\\n\"\u001b[0m\u001b[1;33m)\u001b[0m\u001b[1;33m\u001b[0m\u001b[0m\n\u001b[0;32m      5\u001b[0m         \u001b[0mwriteObjective\u001b[0m\u001b[1;33m(\u001b[0m\u001b[0mmodel\u001b[0m\u001b[1;33m)\u001b[0m\u001b[1;33m\u001b[0m\u001b[0m\n\u001b[1;32m----> 6\u001b[1;33m         \u001b[0mwriteConstraints\u001b[0m\u001b[1;33m(\u001b[0m\u001b[0mmodel\u001b[0m\u001b[1;33m,\u001b[0m \u001b[0mclim\u001b[0m\u001b[1;33m,\u001b[0m \u001b[0mdmd\u001b[0m\u001b[1;33m)\u001b[0m\u001b[1;33m\u001b[0m\u001b[0m\n\u001b[0m\u001b[0;32m      7\u001b[0m         \u001b[0mwriteVariableStatement\u001b[0m\u001b[1;33m(\u001b[0m\u001b[0mmodel\u001b[0m\u001b[1;33m,\u001b[0m \u001b[0mdmd\u001b[0m\u001b[1;33m)\u001b[0m\u001b[1;33m\u001b[0m\u001b[0m\n\u001b[0;32m      8\u001b[0m         \u001b[0mmodel\u001b[0m\u001b[1;33m.\u001b[0m\u001b[0mwrite\u001b[0m\u001b[1;33m(\u001b[0m\u001b[1;34m\"\\nEND\\n\"\u001b[0m\u001b[1;33m)\u001b[0m\u001b[1;33m\u001b[0m\u001b[0m\n",
      "\u001b[1;32m<ipython-input-17-ce030a09818e>\u001b[0m in \u001b[0;36mwriteConstraints\u001b[1;34m(model, clim, dmd)\u001b[0m\n\u001b[0;32m     12\u001b[0m     \u001b[1;31m#writeOwlClusterSiteTriggers(model, dmd) # the per-site constraints on the value of p_i\u001b[0m\u001b[1;33m\u001b[0m\u001b[1;33m\u001b[0m\u001b[0m\n\u001b[0;32m     13\u001b[0m     \u001b[0mwriteOnePrescripPerSite\u001b[0m\u001b[1;33m(\u001b[0m\u001b[0mmodel\u001b[0m\u001b[1;33m,\u001b[0m \u001b[0mdmd\u001b[0m\u001b[1;33m)\u001b[0m\u001b[1;33m\u001b[0m\u001b[0m\n\u001b[1;32m---> 14\u001b[1;33m     \u001b[0mwriteMaxAreaTreatedThresh\u001b[0m\u001b[1;33m(\u001b[0m\u001b[0mmodel\u001b[0m\u001b[1;33m,\u001b[0m \u001b[0mdmd\u001b[0m\u001b[1;33m)\u001b[0m \u001b[1;31m# per time period, sum of area treated < maxPerPeriodTrt\u001b[0m\u001b[1;33m\u001b[0m\u001b[0m\n\u001b[0m\u001b[0;32m     15\u001b[0m     \u001b[1;31m#writeTreatedAreaFluctThresh(model, dmd) # difference in period to period treatment areas\u001b[0m\u001b[1;33m\u001b[0m\u001b[1;33m\u001b[0m\u001b[0m\n\u001b[0;32m     16\u001b[0m     \u001b[0mmodel\u001b[0m\u001b[1;33m.\u001b[0m\u001b[0mwrite\u001b[0m\u001b[1;33m(\u001b[0m\u001b[1;34m\"\\n\"\u001b[0m\u001b[1;33m)\u001b[0m\u001b[1;33m\u001b[0m\u001b[0m\n",
      "\u001b[1;32m<ipython-input-14-54ed13292b2b>\u001b[0m in \u001b[0;36mwriteMaxAreaTreatedThresh\u001b[1;34m(model, dmd)\u001b[0m\n\u001b[0;32m      7\u001b[0m         \u001b[0ma\u001b[0m \u001b[1;33m=\u001b[0m \u001b[0mstr\u001b[0m\u001b[1;33m(\u001b[0m\u001b[0mrow\u001b[0m\u001b[1;33m.\u001b[0m\u001b[0marea\u001b[0m\u001b[1;33m)\u001b[0m\u001b[1;33m\u001b[0m\u001b[0m\n\u001b[0;32m      8\u001b[0m         \u001b[0mmodel\u001b[0m\u001b[1;33m.\u001b[0m\u001b[0mwrite\u001b[0m\u001b[1;33m(\u001b[0m\u001b[1;34m\" + \"\u001b[0m \u001b[1;33m+\u001b[0m \u001b[0ma\u001b[0m \u001b[1;33m+\u001b[0m \u001b[1;34m\" x_\"\u001b[0m \u001b[1;33m+\u001b[0m \u001b[0ms\u001b[0m \u001b[1;33m+\u001b[0m \u001b[1;34m\"_1\"\u001b[0m \u001b[1;33m+\u001b[0m \u001b[1;34m\" + \"\u001b[0m \u001b[1;33m+\u001b[0m \u001b[0ma\u001b[0m \u001b[1;33m+\u001b[0m \u001b[1;34m\" x_\"\u001b[0m \u001b[1;33m+\u001b[0m \u001b[0ms\u001b[0m \u001b[1;33m+\u001b[0m \u001b[1;34m\"_3\\n\"\u001b[0m\u001b[1;33m)\u001b[0m\u001b[1;33m\u001b[0m\u001b[0m\n\u001b[1;32m----> 9\u001b[1;33m     \u001b[0mmodel\u001b[0m\u001b[1;33m.\u001b[0m\u001b[0mwrite\u001b[0m\u001b[1;33m(\u001b[0m\u001b[1;34m\" <= \"\u001b[0m \u001b[1;33m+\u001b[0m \u001b[0mdmd\u001b[0m\u001b[1;33m.\u001b[0m\u001b[0mmaxPerPeriodTrt\u001b[0m \u001b[1;33m+\u001b[0m \u001b[1;34m\"\\n\"\u001b[0m\u001b[1;33m)\u001b[0m\u001b[1;33m\u001b[0m\u001b[0m\n\u001b[0m\u001b[0;32m     10\u001b[0m     \u001b[1;31m# Now the restriction on treated area in the second time period\u001b[0m\u001b[1;33m\u001b[0m\u001b[1;33m\u001b[0m\u001b[0m\n\u001b[0;32m     11\u001b[0m     \u001b[0mmodel\u001b[0m\u001b[1;33m.\u001b[0m\u001b[0mwrite\u001b[0m\u001b[1;33m(\u001b[0m\u001b[1;34m\"MaxArea_2: \"\u001b[0m\u001b[1;33m)\u001b[0m\u001b[1;33m\u001b[0m\u001b[0m\n",
      "\u001b[1;31mTypeError\u001b[0m: cannot concatenate 'str' and 'int' objects"
     ]
    }
   ],
   "source": [
    "# Write set of CPLEX model files\n",
    "for clim in dmd.climProjections:\n",
    "    with open(\"modelFiles/testModel_\" + clim + \".txt\", \"w\") as model:\n",
    "        model.write(\"\\\\ Deschutes NF model file for climate scenario \" + clim + \"\\n\")\n",
    "        writeObjective(model)\n",
    "        writeConstraints(model, clim, dmd)\n",
    "        writeVariableStatement(model, dmd)\n",
    "        model.write(\"\\nEND\\n\")\n",
    "    model.closed"
   ]
  },
  {
   "cell_type": "code",
   "execution_count": null,
   "metadata": {
    "collapsed": false
   },
   "outputs": [],
   "source": []
  }
 ],
 "metadata": {
  "kernelspec": {
   "display_name": "Python 2",
   "language": "python",
   "name": "python2"
  },
  "language_info": {
   "codemirror_mode": {
    "name": "ipython",
    "version": 2
   },
   "file_extension": ".py",
   "mimetype": "text/x-python",
   "name": "python",
   "nbconvert_exporter": "python",
   "pygments_lexer": "ipython2",
   "version": "2.7.9"
  }
 },
 "nbformat": 4,
 "nbformat_minor": 0
}
