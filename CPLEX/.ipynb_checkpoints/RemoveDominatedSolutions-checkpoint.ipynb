{
 "cells": [
  {
   "cell_type": "markdown",
   "metadata": {},
   "source": [
    "# Remove dominated solutions from data file"
   ]
  },
  {
   "cell_type": "code",
   "execution_count": 1,
   "metadata": {
    "collapsed": true
   },
   "outputs": [],
   "source": [
    "import pandas as pd\n",
    "import numpy as np"
   ]
  },
  {
   "cell_type": "code",
   "execution_count": 16,
   "metadata": {
    "collapsed": false
   },
   "outputs": [
    {
     "name": "stderr",
     "output_type": "stream",
     "text": [
      "c:\\Users\\Nick\\Anaconda\\lib\\site-packages\\IPython\\kernel\\__main__.py:8: SettingWithCopyWarning: \n",
      "A value is trying to be set on a copy of a slice from a DataFrame\n",
      "\n",
      "See the the caveats in the documentation: http://pandas.pydata.org/pandas-docs/stable/indexing.html#indexing-view-versus-copy\n"
     ]
    }
   ],
   "source": [
    "datafile = pd.read_csv(\"../visualization/data/climateChange_AllSolutions_primary.csv\")\n",
    "datafile[\"dominated\"] = False\n",
    "frontiers = datafile[\"Frontier\"].unique().tolist()\n",
    "for frontier in frontiers:\n",
    "    for index, rowmain in datafile.loc[datafile[\"Frontier\"] == frontier].iterrows():\n",
    "        for index2, row2 in datafile.loc[datafile[\"Frontier\"] == frontier].iterrows():\n",
    "            if (index2 != index) and (row2[\"Fire Hazard\"] <= rowmain[\"Fire Hazard\"]) and (row2[\"Peak Sediment Delivery (t)\"] <= rowmain[\"Peak Sediment Delivery (t)\"]) and (row2[\"Northern Spotted Owl Habitat (ha)\"] >= rowmain[\"Northern Spotted Owl Habitat (ha)\"]):\n",
    "                datafile[\"dominated\"][index] = True\n",
    "                break\n",
    "# only efficient solutions\n",
    "datafile = datafile[~datafile.dominated].drop(\"dominated\", axis=1)\n",
    "# print to file\n",
    "datafile.to_csv(\"../visualization/data/climateChange_EfficientSolutions_primary.csv\", index=None)"
   ]
  }
 ],
 "metadata": {
  "kernelspec": {
   "display_name": "Python 2",
   "language": "python",
   "name": "python2"
  },
  "language_info": {
   "codemirror_mode": {
    "name": "ipython",
    "version": 2
   },
   "file_extension": ".py",
   "mimetype": "text/x-python",
   "name": "python",
   "nbconvert_exporter": "python",
   "pygments_lexer": "ipython2",
   "version": "2.7.9"
  }
 },
 "nbformat": 4,
 "nbformat_minor": 0
}
