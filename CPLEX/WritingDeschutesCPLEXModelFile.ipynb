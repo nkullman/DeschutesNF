{
 "cells": [
  {
   "cell_type": "markdown",
   "metadata": {},
   "source": [
    "# Writing Deschutes NF multi-objective CPLEX model file"
   ]
  },
  {
   "cell_type": "code",
   "execution_count": 13,
   "metadata": {
    "collapsed": true
   },
   "outputs": [],
   "source": [
    "import pandas as pd\n",
    "import numpy as np"
   ]
  },
  {
   "cell_type": "code",
   "execution_count": 14,
   "metadata": {
    "collapsed": false
   },
   "outputs": [],
   "source": [
    "# Define object that is a body of all required data for the model file\n",
    "class DeschutesModelData:\n",
    "    def __init__(self, areas, fire, sed, clusters, nsoCands,\n",
    "                 maxPerPeriodTrt, interPeriodFluctuation, nsoHabSizeDiscount):\n",
    "        self.areas = areas\n",
    "        self.stands = areas[\"stand\"]\n",
    "        self.fire = fire\n",
    "        self.climProjections = fire[\"climateScenario\"].unique().tolist()\n",
    "        self.sed = sed\n",
    "        self.clusters = clusters\n",
    "        self.nsoCands = nsoCands\n",
    "        self.maxPerPeriodTrt = maxPerPeriodTrt\n",
    "        self.interPeriodFluctuation = interPeriodFluctuation\n",
    "        self.nsoHabSizeDiscount = nsoHabSizeDiscount"
   ]
  },
  {
   "cell_type": "code",
   "execution_count": 15,
   "metadata": {
    "collapsed": true
   },
   "outputs": [],
   "source": [
    "# Instantiate a DeschutesModelData object with our data files\n",
    "dmd = DeschutesModelData(areas = pd.read_csv(\"data/standAreas_test.csv\"),\n",
    "                         fire = pd.read_csv(\"data/fire_test.csv\"),\n",
    "                         sed = pd.read_csv(\"data/sed_wClim_test.csv\"),\n",
    "                         clusters = pd.read_csv(\"data/clusters_test.csv\"),\n",
    "                         nsoCands = pd.read_csv(\"data/standNSOCandidacy_wTrtTimes_test.csv\"),\n",
    "                         maxPerPeriodTrt = 6000,\n",
    "                         interPeriodFluctuation = 0.2,\n",
    "                         nsoHabSizeDiscount = 0.5)"
   ]
  },
  {
   "cell_type": "code",
   "execution_count": 16,
   "metadata": {
    "collapsed": true
   },
   "outputs": [],
   "source": [
    "# Create method to write the constraint defining the fire objective\n",
    "def writeFireObjDefinition(model, fireTable):\n",
    "    model.write(\"FireObjective: \")\n",
    "    for index, row in fireTable.iterrows(): # for each stand\n",
    "        s = str(int(row.stand))\n",
    "        for idx, val in enumerate(row[\"trtInNeither\":]): # and for each treatment scenario,\n",
    "            # write obj fn terms for associated reduction in fire hazard\n",
    "            if val < 0:\n",
    "                model.write(\" \" + str(val) + \" x_\" + s + \"_\" + str(idx))\n",
    "            else:\n",
    "                model.write(\" + \" + str(val) + \" x_\" + s + \"_\" + str(idx))\n",
    "        model.write(\"\\n\") # move on to next stand\n",
    "    model.write(\" - FireHazardReduction = 0\\n\") # terminate constraint"
   ]
  },
  {
   "cell_type": "code",
   "execution_count": 17,
   "metadata": {
    "collapsed": false
   },
   "outputs": [],
   "source": [
    "# Create method to write the constraint defining the owl objective\n",
    "def writeOwlObjDefinition(model, owlTable, areas, discount):\n",
    "    owl = owlTable.merge(areas, how=\"left\", on=\"stand\")\n",
    "    owl = owl[[\"stand\",\"area\",\"trtInNeither\",\"trtIn1\",\"trtIn2\",\"trtInBoth\"]]\n",
    "    model.write(\"OwlObjective: \")\n",
    "    for index, row in owl.iterrows():\n",
    "        s = str(int(row.stand))\n",
    "        a = row.area\n",
    "        if sum(row[\"trtInNeither\":]) > 0: # If the stand qualifies as NSO habitat in at least one treatment scenario...\n",
    "            # Then the site enters the objective function. We begin by writing its trigger var's for p\n",
    "            # (the following write statement could be shortened, but leaving it as two terms makes the logic more obvious)\n",
    "            model.write(str(a) + \" p_\" + s + \" - \" + str(discount*a) + \" p_\" + s)\n",
    "            for idx, val in enumerate(row[\"trtInNeither\":]): # Next we sum up over the treatment scenarios...\n",
    "                if val > 0: # in which the stand qualifies as NSO habitat (val will be 1)\n",
    "                    model.write(\" + \" + str(discount*a) + \" x_\" + s + \"_\" + str(idx))\n",
    "            model.write(\"\\n\") # move on to next stand\n",
    "    model.write(\" - OwlHabitat = 0\\n\") # terminate constraint               "
   ]
  },
  {
   "cell_type": "code",
   "execution_count": 23,
   "metadata": {
    "collapsed": true
   },
   "outputs": [],
   "source": [
    "# Create method to write the constraints defining the sediment objective\n",
    "def writeSedimentObjDefinition(model, sedTable):\n",
    "    # Begin with defining the increased sediment delivery in the first period, S1\n",
    "    model.write(\"DefineS1: \")\n",
    "    for index, row in sedTable.iterrows(): # for each stand\n",
    "        s = str(int(row.stand))\n",
    "        c1 = str(row.trtIn1 - row.baseline) # contribution to increased sediment delivery in first period (above baseline)\n",
    "        model.write(\" + \" + c1 + \" x_\" + s + \"_1\" + \" + \" + c1 + \" x_\" + s + \"_3\\n\")\n",
    "    model.write(\" - S1 = 0\\n\")\n",
    "    # Now define the increased sediment delivery in the second period, S2\n",
    "    model.write(\"DefineS2: \")\n",
    "    for index, row in sedTable.iterrows(): # for each stand\n",
    "        s = str(int(row.stand))\n",
    "        c2 = str(row.trtIn2 - row.baseline) # contribution to increased sediment delivery in second period (above baseline)\n",
    "        model.write(\" + \" + c2 + \" x_\" + s + \"_2\" + \" + \" + c2 + \" x_\" + s + \"_3\\n\")\n",
    "    model.write(\" - S2 = 0\\n\")\n",
    "    # Finally, require the objective MaxSediment to be the max of these two\n",
    "    model.write(\"MaxSedimentGES1: MaxSediment - S1 >= 0\\n\")\n",
    "    model.write(\"MaxSedimentGES2: MaxSediment - S2 >= 0\\n\")"
   ]
  },
  {
   "cell_type": "code",
   "execution_count": 19,
   "metadata": {
    "collapsed": true
   },
   "outputs": [],
   "source": [
    "# Larger umbrella methods for the writing of the CPLEX model file\n",
    "def writeObjective(model):\n",
    "    model.write(\"MAXIMIZE\\n\")\n",
    "    model.write(\"OBJECTIVE: FireHazardReduction + OwlHabitat - MaxSediment\\n\\n\")\n",
    "\n",
    "def writeConstraints(model, clim, dmd):\n",
    "    model.write(\"Subject To:\\n\")\n",
    "    writeFireObjDefinition(model, dmd.fire.loc[dmd.fire.climateScenario == clim])\n",
    "    writeOwlObjDefinition(model, dmd.nsoCands.loc[dmd.nsoCands.climateScenario == clim], dmd.areas, dmd.nsoHabSizeDiscount)\n",
    "    writeSedimentObjDefinition(model, dmd.sed.loc[dmd.sed.climate == clim])\n",
    "    #writeClusterVarTriggers(model, dmd) # the per-cluster constraints (eq 5 in SEFS 540 final report)\n",
    "    #writeOwlClusterSiteTriggers(model, dmd) # the per-site constraints on the value of p_i\n",
    "    #writeOnePrescripPerSite(model, dmd) # per-site, sum of prescriptions is 1\n",
    "    #writeMaxAreaTreatedThresh(model, dmd) # per time period, sum of area treated < maxPerPeriodTrt\n",
    "    #writeTreatedAreaFluctThresh(model, dmd) # difference in period to period treatment areas\n",
    "    model.write(\"\\n\")\n",
    "    \n",
    "def writeVariableStatement(model, dmd):\n",
    "    model.write(\"BINARY\\n\")\n",
    "    #writeBinaryVarStmt(model, dmd)\n",
    "    model.write(\"\\n\")"
   ]
  },
  {
   "cell_type": "code",
   "execution_count": 24,
   "metadata": {
    "collapsed": false
   },
   "outputs": [],
   "source": [
    "# Write set of CPLEX model files\n",
    "for clim in dmd.climProjections:\n",
    "    with open(\"modelFiles/testModel_\" + clim + \".txt\", \"w\") as model:\n",
    "        model.write(\"\\\\ Deschutes NF model file for climate scenario \" + clim + \"\\n\")\n",
    "        writeObjective(model)\n",
    "        writeConstraints(model, clim, dmd)\n",
    "        writeVariableStatement(model, dmd)\n",
    "        model.write(\"\\nEND\\n\")\n",
    "    model.closed"
   ]
  },
  {
   "cell_type": "code",
   "execution_count": null,
   "metadata": {
    "collapsed": false
   },
   "outputs": [],
   "source": []
  }
 ],
 "metadata": {
  "kernelspec": {
   "display_name": "Python 2",
   "language": "python",
   "name": "python2"
  },
  "language_info": {
   "codemirror_mode": {
    "name": "ipython",
    "version": 2
   },
   "file_extension": ".py",
   "mimetype": "text/x-python",
   "name": "python",
   "nbconvert_exporter": "python",
   "pygments_lexer": "ipython2",
   "version": "2.7.9"
  }
 },
 "nbformat": 4,
 "nbformat_minor": 0
}
