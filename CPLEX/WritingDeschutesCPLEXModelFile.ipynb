{
 "cells": [
  {
   "cell_type": "markdown",
   "metadata": {},
   "source": [
    "# Writing Deschutes NF multi-objective CPLEX model file"
   ]
  },
  {
   "cell_type": "code",
   "execution_count": 28,
   "metadata": {
    "collapsed": true
   },
   "outputs": [],
   "source": [
    "import pandas as pd\n",
    "import numpy as np"
   ]
  },
  {
   "cell_type": "code",
   "execution_count": 29,
   "metadata": {
    "collapsed": false
   },
   "outputs": [],
   "source": [
    "# Define object that is a body of all required data for the model file\n",
    "class DeschutesModelData:\n",
    "    def __init__(self, areas, fire, sed, clusters, nsoCands1, nsoCands2,\n",
    "                 maxPerPeriodTrt, interPeriodFluctuation, nsoHabSizeDiscount):\n",
    "        self.areas = areas\n",
    "        self.stands = areas[\"stand\"]\n",
    "        self.fire = fire\n",
    "        self.climProjections = fire[\"climateScenario\"].unique().tolist()\n",
    "        self.sed = sed\n",
    "        self.clusters = clusters\n",
    "        self.nsoCands = {}\n",
    "        self.nsoCands[\"1\"] = nsoCands1\n",
    "        self.nsoCands[\"2\"] = nsoCands2\n",
    "        self.maxPerPeriodTrt = maxPerPeriodTrt\n",
    "        self.interPeriodFluctuation = interPeriodFluctuation\n",
    "        self.nsoHabSizeDiscount = nsoHabSizeDiscount"
   ]
  },
  {
   "cell_type": "code",
   "execution_count": 30,
   "metadata": {
    "collapsed": false
   },
   "outputs": [],
   "source": [
    "# Instantiate a DeschutesModelData object with our data files\n",
    "dmd = DeschutesModelData(areas = pd.read_csv(\"data/standAreas.csv\"),\n",
    "                         fire = pd.read_csv(\"data/fire.csv\"),\n",
    "                         sed = pd.read_csv(\"data/sed_wClim.csv\"),\n",
    "                         clusters = pd.read_csv(\"data/clusters.csv\"),\n",
    "                         nsoCands1 = pd.read_csv(\"data/standNSOCandidacy_wTrtTimes_raw.csv\"), # make new files with subscript\n",
    "                         nsoCands2 = pd.read_csv(\"data/standNSOCandidacy_wTrtTimes_raw.csv\"), # for times 1, 2\n",
    "                         maxPerPeriodTrt = 2428.114, #6000 acres to ha\n",
    "                         interPeriodFluctuation = 0.2,\n",
    "                         nsoHabSizeDiscount = 0.5)"
   ]
  },
  {
   "cell_type": "code",
   "execution_count": 31,
   "metadata": {
    "collapsed": true
   },
   "outputs": [],
   "source": [
    "# Method writes the constraint defining the fire objective\n",
    "def writeFireObjDefinition(model, fireTable):\n",
    "    model.write(\"FireObjective: \")\n",
    "    for index, row in fireTable.iterrows(): # for each stand\n",
    "        s = str(int(row.stand))\n",
    "        for idx, val in enumerate(row[\"none\":]): # and for each treatment scenario,\n",
    "            # write obj fn terms for associated reduction in fire hazard\n",
    "            if val < 0:\n",
    "                model.write(\" \" + str(val) + \" x_\" + s + \"_\" + str(idx))\n",
    "            else:\n",
    "                model.write(\" + \" + str(val) + \" x_\" + s + \"_\" + str(idx))\n",
    "        model.write(\"\\n\") # move on to next stand\n",
    "    model.write(\" + FireHazardIncrease = 0\\n\") # terminate constraint"
   ]
  },
  {
   "cell_type": "code",
   "execution_count": 32,
   "metadata": {
    "collapsed": false
   },
   "outputs": [],
   "source": [
    "# Method writes the constraint defining the owl objective\n",
    "# See following cell for new definition\n",
    "def writeOwlObjDefinition(model, owlTable, areas, discount):\n",
    "    owl = owlTable.merge(areas, how=\"left\", on=\"stand\")\n",
    "    owl = owl[[\"stand\",\"area (ha)\",\"none\",\"first\",\"second\",\"both\"]]\n",
    "    model.write(\"OwlObjective: \")\n",
    "    for index, row in owl.iterrows():\n",
    "        s = str(int(row[\"stand\"]))\n",
    "        a = row[\"area (ha)\"]\n",
    "        if sum(row[\"none\":]) > 0: # If the stand qualifies as NSO habitat in at least one treatment scenario...\n",
    "            # Then the site enters the objective function. We begin by writing its trigger var's for p\n",
    "            # (the following write statement could be shortened, but leaving it as two terms makes the logic more obvious)\n",
    "            model.write(\" + \" + str(a) + \" p_\" + s + \" - \" + str(discount*a) + \" p_\" + s)\n",
    "            for idx, val in enumerate(row[\"none\":]): # Next we sum up over the treatment scenarios...\n",
    "                if val > 0: # in which the stand qualifies as NSO habitat (val will be 1)\n",
    "                    model.write(\" + \" + str(discount*a) + \" x_\" + s + \"_\" + str(idx))\n",
    "            model.write(\"\\n\") # move on to next stand\n",
    "    model.write(\" - OwlHabitat = 0\\n\") # terminate constraint               "
   ]
  },
  {
   "cell_type": "code",
   "execution_count": 33,
   "metadata": {
    "collapsed": true
   },
   "outputs": [],
   "source": [
    "### UNDER DEVELOPMENT - REPLACES ABOVE CELL\n",
    "### TRANSITIONING TO PER-PERIOD MESAUREMENT OF OWL HAB (AND MAX'ING THIS VALUE)\n",
    "# Method writes the constraint defining the owl objective\n",
    "# Under new definition of owl habitat, this will have to be done twice\n",
    "def writeOwlHabDef1(model, owlTablep1, areas, discount):\n",
    "    owl = owlTablep1.merge(areas, how=\"left\", on=\"stand\")\n",
    "    owl = owl[[\"stand\",\"area (ha)\",\"none\",\"first\",\"second\",\"both\"]]\n",
    "    model.write(\"OwlHabitat_2035: \")\n",
    "    for index, row in owl.iterrows():\n",
    "        s = str(int(row[\"stand\"]))\n",
    "        a = row[\"area (ha)\"]\n",
    "        if sum(row[\"none\":]) > 0: # If the stand qualifies as NSO habitat in at least one treatment scenario...\n",
    "            # Then the site enters the objective function. We begin by writing its trigger var's for p\n",
    "            # (the following write statement could be shortened, but leaving it as two terms makes the logic more obvious)\n",
    "            model.write(\" + \" + str(a) + \" p_\" + s + \"_1 \" + \" - \" + str(discount*a) + \" p_\" + s + \"_1\")\n",
    "            for idx, val in enumerate(row[\"none\":]): # Next we sum up over the treatment scenarios...\n",
    "                if val > 0: # in which the stand qualifies as NSO habitat (val will be 1)\n",
    "                    model.write(\" + \" + str(discount*a) + \" x_\" + s + \"_\" + str(idx))\n",
    "            model.write(\"\\n\") # move on to next stand\n",
    "    model.write(\" - OwlHabitat_1 = 0\\n\") # terminate constraint\n",
    "    model.write(\"MinOwlHabitatLEOwlHab1: MinOwlHabitat - OwlHabitat_1 <= 0\\n\")\n",
    "\n",
    "def writeOwlHabDef2(model, owlTablep2, areas, discount):\n",
    "    owl = owlTablep2.merge(areas, how=\"left\", on=\"stand\")\n",
    "    owl = owl[[\"stand\",\"area (ha)\",\"none\",\"first\",\"second\",\"both\"]]\n",
    "    model.write(\"OwlHabitat_2055: \")\n",
    "    for index, row in owl.iterrows():\n",
    "        s = str(int(row[\"stand\"]))\n",
    "        a = row[\"area (ha)\"]\n",
    "        if sum(row[\"none\":]) > 0: # If the stand qualifies as NSO habitat in at least one treatment scenario...\n",
    "            # Then the site enters the objective function. We begin by writing its trigger var's for p\n",
    "            # (the following write statement could be shortened, but leaving it as two terms makes the logic more obvious)\n",
    "            model.write(\" + \" + str(a) + \" p_\" + s + \"_2 \" + \" - \" + str(discount*a) + \" p_\" + s + \"_2\")\n",
    "            for idx, val in enumerate(row[\"none\":]): # Next we sum up over the treatment scenarios...\n",
    "                if val > 0: # in which the stand qualifies as NSO habitat (val will be 1)\n",
    "                    model.write(\" + \" + str(discount*a) + \" x_\" + s + \"_\" + str(idx))\n",
    "            model.write(\"\\n\") # move on to next stand\n",
    "    model.write(\" - OwlHabitat_2 = 0\\n\") # terminate constraint\n",
    "    model.write(\"MinOwlHabitatLEOwlHab2: MinOwlHabitat - OwlHabitat_2 <= 0\\n\")\n",
    "    "
   ]
  },
  {
   "cell_type": "code",
   "execution_count": 34,
   "metadata": {
    "collapsed": true
   },
   "outputs": [],
   "source": [
    "# Method writes the constraints defining the sediment objective\n",
    "def writeSedimentObjDefinition(model, sedTable):\n",
    "    # Begin with defining the increased sediment delivery in the first period, S1\n",
    "    model.write(\"DefineS1: \")\n",
    "    for index, row in sedTable.iterrows(): # for each stand\n",
    "        s = str(int(row.stand))\n",
    "        c1 = str(row.trtIn1) # contribution to increased sediment delivery in first period (above baseline)\n",
    "        model.write(\" + \" + c1 + \" x_\" + s + \"_1\" + \" + \" + c1 + \" x_\" + s + \"_3\\n\")\n",
    "    model.write(\" - S1 = 0\\n\")\n",
    "    # Now define the increased sediment delivery in the second period, S2\n",
    "    model.write(\"DefineS2: \")\n",
    "    for index, row in sedTable.iterrows(): # for each stand\n",
    "        s = str(int(row.stand))\n",
    "        c2 = str(row.trtIn2) # contribution to increased sediment delivery in second period (above baseline)\n",
    "        model.write(\" + \" + c2 + \" x_\" + s + \"_2\" + \" + \" + c2 + \" x_\" + s + \"_3\\n\")\n",
    "    model.write(\" - S2 = 0\\n\")\n",
    "    # Finally, require the objective MaxSediment to be the max of these two\n",
    "    model.write(\"MaxSedimentGES1: MaxSediment - S1 >= 0\\n\")\n",
    "    model.write(\"MaxSedimentGES2: MaxSediment - S2 >= 0\\n\")"
   ]
  },
  {
   "cell_type": "code",
   "execution_count": 35,
   "metadata": {
    "collapsed": true
   },
   "outputs": [],
   "source": [
    "# Method writes the constraints defining the cluster variable triggers, q_c\n",
    "def writeClusterVarTriggers(model, dmd, clim):\n",
    "    for t in [\"1\",\"2\"]:\n",
    "        for index, row in dmd.clusters.iterrows(): # for each cluster...\n",
    "            c = str(int(row.CL))\n",
    "            stands = row[\"S1\":][row[\"S1\":] > 0] # get list of sites in the cluster (0 indicating no site in the cluster file)\n",
    "            k = str(len(stands)) # store cardinality of the cluster\n",
    "            model.write(\"QVarTrigger_\" + c + \"_\" + t + \": -\" + k + \" q_\" + c + \"_\" + t) # write intro to constraint and single term for the trigger var\n",
    "            for stand in stands: # Then for each stand in the cluster...\n",
    "                s = str(int(stand))\n",
    "                # Get the list of treatment prescriptions for which the stand is suitable NSO habitat:\n",
    "                owlQual = dmd.nsoCands[t].loc[dmd.nsoCands[t].stand == stand].loc[dmd.nsoCands[t].climateScenario == clim].loc[:,\"none\":].iloc[0]\n",
    "                for idx, val in enumerate(owlQual):\n",
    "                    if val > 0:\n",
    "                        model.write(\" + x_\" + s + \"_\" + str(idx)) # And for those stand-treatment prescriptions, write a term in the constraint\n",
    "                model.write(\"\\n\") # Done with one stand in the cluster. Jump to new line to begin the next\n",
    "            model.write(\" >= 0\\n\") # Complete cluster constraint"
   ]
  },
  {
   "cell_type": "code",
   "execution_count": 36,
   "metadata": {
    "collapsed": true
   },
   "outputs": [],
   "source": [
    "# Method writes constraint for site-wise trigger variables p_i_t\n",
    "def writeOwlClusterSiteTriggers(model, dmd, clim):\n",
    "    for t in [\"1\",\"2\"]:\n",
    "        for idx, row in dmd.nsoCands[t].loc[dmd.nsoCands[t].climateScenario == \"NONE\"].iterrows(): # For each stand...\n",
    "            s = str(int(row.stand))\n",
    "            if sum(row[\"none\":]) > 0:\n",
    "                model.write(\"PVarTrigger_\" + s + \"_\" + t + \": -p_\" + s + \"_\" + t)\n",
    "                clustersWThisStand = dmd.clusters.loc[(dmd.clusters.loc[:,\"S1\":] == int(s)).any(axis=1)]\n",
    "                for idxc, rowc in clustersWThisStand: # get list of clusters that contain this stand\n",
    "                    cl = str(int(rowc.CL))\n",
    "                    model.write(\" + q_\" + cl + \"_\" + t +\"\\n\")\n",
    "                model.write(\" >= 0\\n\") # Done adding clusters to the constraint, so finish it."
   ]
  },
  {
   "cell_type": "code",
   "execution_count": 37,
   "metadata": {
    "collapsed": true
   },
   "outputs": [],
   "source": [
    "# Method writes constratint requiring exactly one treatment prescription per site\n",
    "def writeOnePrescripPerSite(model, dmd):\n",
    "    # We will iterate through all stands once. We need access to the treatment prescriptions, so we use a class attribute that contains them - we chose fire here\n",
    "    for index, row in dmd.fire.loc[dmd.fire.climateScenario == \"NONE\"].iterrows():\n",
    "        s = str(int(row.stand))\n",
    "        model.write(\"OneTrtPrescription_\" + s + \": \")\n",
    "        for idx, val in enumerate(row[\"none\":]):\n",
    "            model.write(\" + x_\" + s + \"_\" + str(idx))\n",
    "        model.write(\" = 1\\n\")"
   ]
  },
  {
   "cell_type": "code",
   "execution_count": 38,
   "metadata": {
    "collapsed": true
   },
   "outputs": [],
   "source": [
    "# Method writes constraints defining and restricting the area treated in each time period\n",
    "def writeMaxAreaTreatedThresh(model, dmd):\n",
    "    # Defining the area treated in the first time period\n",
    "    model.write(\"DefineTreatedArea_1: \")\n",
    "    for index, row in dmd.areas.iterrows(): # for each stand...\n",
    "        s = str(int(row[\"stand\"]))\n",
    "        a = str(row[\"area (ha)\"])\n",
    "        model.write(\" + \" + a + \" x_\" + s + \"_1\" + \" + \" + a + \" x_\" + s + \"_3\\n\")\n",
    "    model.write(\" - A1 = 0\\n\")\n",
    "    # Restricting first period area\n",
    "    model.write(\"RestrictMaxArea_1: A1 <= \" + str(dmd.maxPerPeriodTrt) + \"\\n\")\n",
    "    # Defining the treated area in the second time period\n",
    "    model.write(\"DefineTreatedArea_2: \")\n",
    "    for index, row in dmd.areas.iterrows(): # for each stand...\n",
    "        s = str(int(row[\"stand\"]))\n",
    "        a = str(row[\"area (ha)\"])\n",
    "        model.write(\" + \" + a + \" x_\" + s + \"_2\" + \" + \" + a + \" x_\" + s + \"_3\\n\")\n",
    "    model.write(\" - A2 = 0\\n\")\n",
    "    model.write(\"RestrictMaxArea_2: A2 <= \" + str(dmd.maxPerPeriodTrt) + \"\\n\")"
   ]
  },
  {
   "cell_type": "code",
   "execution_count": 39,
   "metadata": {
    "collapsed": true
   },
   "outputs": [],
   "source": [
    "# Method writes constraint restricting the inter-period treatment area fluctuation\n",
    "def writeTreatedAreaFluctThresh(model,dmd):\n",
    "    model.write(\"LowerBoundOnFluctuation: \" + str(1 - dmd.interPeriodFluctuation) + \" A1 - A2 <= 0\\n\")\n",
    "    model.write(\"UpperBoundOnFluctuation: \" + str(1 + dmd.interPeriodFluctuation) + \" A1 - A2 >= 0\\n\")"
   ]
  },
  {
   "cell_type": "code",
   "execution_count": 40,
   "metadata": {
    "collapsed": true
   },
   "outputs": [],
   "source": [
    "# CPLEX model files end with a statement declaring which variables are general (integer), binary, etc.\n",
    "# Write such constraints for our model\n",
    "def writeBinaryVarStmt(model, dmd, clim):\n",
    "    # Write for the X vars\n",
    "    for index, row in dmd.fire.loc[dmd.fire.climateScenario == clim].iterrows():\n",
    "        s = str(int(row.stand))\n",
    "        for idx,val in enumerate(row[\"none\":]):\n",
    "            model.write(\"x_\" + s + \"_\" + str(idx) + \"\\n\")\n",
    "    # Write for the P and Q vars\n",
    "    for t in [\"1\",\"2\"]:\n",
    "        for index, row in dmd.nsoCands[t].loc[dmd.nsoCands[t].climateScenario == clim].iterrows(): # For each stand...\n",
    "            s = str(int(row[\"stand\"]))\n",
    "            if sum(row[\"none\":]) > 0:\n",
    "                model.write(\"p_\" + s + \"_\" + t + \"\\n\")\n",
    "        for index, row in dmd.clusters.iterrows():\n",
    "            c = str(int(row.CL))\n",
    "            model.write(\"q_\" + c + \"_\" + t + \"\\n\")"
   ]
  },
  {
   "cell_type": "code",
   "execution_count": 41,
   "metadata": {
    "collapsed": true
   },
   "outputs": [],
   "source": [
    "# Larger umbrella methods for the writing of the CPLEX model file\n",
    "def writeObjective(model):\n",
    "    model.write(\"MAXIMIZE\\n\")\n",
    "    model.write(\"OBJECTIVE: -FireHazardIncrease + MinOwlHabitat - MaxSediment\\n\\n\")\n",
    "\n",
    "def writeConstraints(model, clim, dmd):\n",
    "    model.write(\"Subject To:\\n\")\n",
    "    writeFireObjDefinition(model, dmd.fire.loc[dmd.fire.climateScenario == clim])\n",
    "    #writeOwlObjDefinition(model, dmd.nsoCands.loc[dmd.nsoCands.climateScenario == clim], dmd.areas, dmd.nsoHabSizeDiscount)\n",
    "    writeOwlHabDef1(model, dmd.nsoCands[\"1\"].loc[dmd.nsoCands[\"1\"].climateScenario == clim], dmd.areas, dmd.nsoHabSizeDiscount)\n",
    "    writeOwlHabDef2(model, dmd.nsoCands[\"2\"].loc[dmd.nsoCands[\"2\"].climateScenario == clim], dmd.areas, dmd.nsoHabSizeDiscount)\n",
    "    writeSedimentObjDefinition(model, dmd.sed.loc[dmd.sed.climate == clim])\n",
    "    writeClusterVarTriggers(model, dmd, clim) # the per-cluster constraints\n",
    "    writeOwlClusterSiteTriggers(model, dmd, clim) # the per-site constraints on the value of p_i\n",
    "    writeOnePrescripPerSite(model, dmd)\n",
    "    writeMaxAreaTreatedThresh(model, dmd) # per time period, sum of area treated < maxPerPeriodTrt\n",
    "    writeTreatedAreaFluctThresh(model, dmd) # difference in period to period treatment areas\n",
    "    model.write(\"\\n\")\n",
    "    \n",
    "def writeVariableStatement(model, dmd, clim):\n",
    "    model.write(\"BINARY\\n\")\n",
    "    writeBinaryVarStmt(model, dmd, clim)\n",
    "    model.write(\"\\n\")"
   ]
  },
  {
   "cell_type": "code",
   "execution_count": null,
   "metadata": {
    "collapsed": false
   },
   "outputs": [],
   "source": [
    "# Write set of CPLEX model files\n",
    "for clim in dmd.climProjections:\n",
    "    with open(\"modelFiles/testModel_NewOWlObj_\" + clim + \".txt\", \"w\") as model:\n",
    "        model.write(\"\\\\ Deschutes NF model file for climate scenario \" + clim + \"\\n\")\n",
    "        writeObjective(model)\n",
    "        writeConstraints(model, clim, dmd)\n",
    "        writeVariableStatement(model, dmd, clim)\n",
    "        model.write(\"\\nEND\\n\")\n",
    "    model.closed"
   ]
  },
  {
   "cell_type": "code",
   "execution_count": 45,
   "metadata": {
    "collapsed": false
   },
   "outputs": [],
   "source": [
    "# Experimentation cell"
   ]
  }
 ],
 "metadata": {
  "kernelspec": {
   "display_name": "Python 3",
   "language": "python",
   "name": "python3"
  },
  "language_info": {
   "codemirror_mode": {
    "name": "ipython",
    "version": 3
   },
   "file_extension": ".py",
   "mimetype": "text/x-python",
   "name": "python",
   "nbconvert_exporter": "python",
   "pygments_lexer": "ipython3",
   "version": "3.4.3"
  }
 },
 "nbformat": 4,
 "nbformat_minor": 0
}
