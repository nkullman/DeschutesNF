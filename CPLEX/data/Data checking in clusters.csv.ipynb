{
 "cells": [
  {
   "cell_type": "markdown",
   "metadata": {},
   "source": [
    "#Checking for duplicates in clusters file"
   ]
  },
  {
   "cell_type": "code",
   "execution_count": 2,
   "metadata": {
    "collapsed": true
   },
   "outputs": [],
   "source": [
    "import pandas as pd\n",
    "import numpy as np"
   ]
  },
  {
   "cell_type": "code",
   "execution_count": 23,
   "metadata": {
    "collapsed": false
   },
   "outputs": [
    {
     "name": "stdout",
     "output_type": "stream",
     "text": [
      "257225\n",
      "6\n"
     ]
    }
   ],
   "source": [
    "csdf = pd.read_csv(\"clusters.csv\")\n",
    "print len(csdf)\n",
    "minidf = cs.head()\n",
    "minidf = minidf.append(minidf.iloc[0])\n",
    "print len(minidf)"
   ]
  },
  {
   "cell_type": "code",
   "execution_count": 26,
   "metadata": {
    "collapsed": false
   },
   "outputs": [
    {
     "name": "stdout",
     "output_type": "stream",
     "text": [
      "frozenset([289, 2, 296, 66, 144, 114, 275, 215])\n",
      "frozenset([2, 296, 66, 144, 114, 275, 53, 215])\n",
      "frozenset([2, 296, 9, 66, 144, 114, 275, 215])\n",
      "frozenset([2, 296, 66, 144, 114, 275, 54, 215])\n",
      "frozenset([2, 135, 296, 55, 66, 144, 114, 275, 215])\n",
      "frozenset([289, 2, 296, 66, 144, 114, 275, 215])\n"
     ]
    },
    {
     "data": {
      "text/plain": [
       "5"
      ]
     },
     "execution_count": 26,
     "metadata": {},
     "output_type": "execute_result"
    }
   ],
   "source": [
    "clusters = set()\n",
    "for idx, row in minidf.iterrows():\n",
    "    nc = frozenset(row[\"S1\":][row[\"S1\":] > 0])\n",
    "    print nc\n",
    "    clusters.add(nc)\n",
    "len(clusters)"
   ]
  },
  {
   "cell_type": "code",
   "execution_count": 18,
   "metadata": {
    "collapsed": false
   },
   "outputs": [
    {
     "data": {
      "text/plain": [
       "CL       1\n",
       "S1       2\n",
       "S2     114\n",
       "S3     296\n",
       "S4      66\n",
       "S5     275\n",
       "S6     144\n",
       "S7     215\n",
       "S8     289\n",
       "S9      -1\n",
       "S10     -1\n",
       "S11     -1\n",
       "S12     -1\n",
       "S13     -1\n",
       "Name: 0, dtype: int64"
      ]
     },
     "execution_count": 18,
     "metadata": {},
     "output_type": "execute_result"
    }
   ],
   "source": [
    "minidf.iloc[0]"
   ]
  }
 ],
 "metadata": {
  "kernelspec": {
   "display_name": "Python 2",
   "language": "python",
   "name": "python2"
  },
  "language_info": {
   "codemirror_mode": {
    "name": "ipython",
    "version": 2
   },
   "file_extension": ".py",
   "mimetype": "text/x-python",
   "name": "python",
   "nbconvert_exporter": "python",
   "pygments_lexer": "ipython2",
   "version": "2.7.9"
  }
 },
 "nbformat": 4,
 "nbformat_minor": 0
}
