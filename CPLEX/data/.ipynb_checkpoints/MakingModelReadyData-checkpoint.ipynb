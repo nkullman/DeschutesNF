{
 "cells": [
  {
   "cell_type": "markdown",
   "metadata": {},
   "source": [
    "# Writing Deschutes NF data to files to be used to write multi-objective opt. model"
   ]
  },
  {
   "cell_type": "code",
   "execution_count": 1,
   "metadata": {
    "collapsed": true
   },
   "outputs": [],
   "source": [
    "import pandas as pd\n",
    "import numpy as np"
   ]
  },
  {
   "cell_type": "code",
   "execution_count": 2,
   "metadata": {
    "collapsed": false
   },
   "outputs": [],
   "source": [
    "stands = range(303)\n",
    "climProjections = [\"none\",\n",
    "                \"CCSM4_rcp45\", \"CCSM4_rcp60\", \"CCSM4_rcp85\",\n",
    "                \"Ensemble_rcp45\", \"Ensemble_rcp60\", \"Ensemble_rcp85\",\n",
    "                \"GFDLCM3_rcp45\",\"GFDLCM3_rcp60\",\"GFDLCM3_rcp85\",\n",
    "                \"HadGEM2ES_rcp45\",\"HadGEM2ES_rcp60\",\"HadGEM2ES_rcp85\"]"
   ]
  },
  {
   "cell_type": "code",
   "execution_count": 3,
   "metadata": {
    "collapsed": true
   },
   "outputs": [],
   "source": [
    "# Create and write file with sediment delivery coefficients\n",
    "ent1 = {\"stand\": [], \"baseline\": [], \"trtIn1\": [], \"trtIn2\": []}\n",
    "sed = pd.DataFrame(ent1)\n",
    "for stand in stands:\n",
    "    newRow = {\"stand\": stand, \"baseline\": 0.5, \"trtIn1\": .75, \"trtIn2\": .8}\n",
    "    sed = sed.append(newRow, ignore_index=True)\n",
    "sed = sed[[\"stand\",\"baseline\",\"trtIn1\",\"trtIn2\"]]\n",
    "sed.to_csv(\"sed_NoClim_test.csv\", index=None)\n",
    "\n",
    "ent1 = {\"stand\": [], \"climate\": [], \"baseline\": [], \"trtIn1\": [], \"trtIn2\": []}\n",
    "sed = pd.DataFrame(ent1)\n",
    "for stand in stands:\n",
    "    for clim in climProjections:\n",
    "        newRow = {\"stand\": stand, \"climate\": clim, \"baseline\": 0.5, \"trtIn1\": .75, \"trtIn2\": .8}\n",
    "        sed = sed.append(newRow, ignore_index=True)\n",
    "sed = sed[[\"stand\",\"climate\",\"baseline\",\"trtIn1\",\"trtIn2\"]]\n",
    "sed.to_csv(\"sed_wClim_test.csv\", index=None)"
   ]
  },
  {
   "cell_type": "code",
   "execution_count": 4,
   "metadata": {
    "collapsed": false
   },
   "outputs": [],
   "source": [
    "# Read in old cluster file to make available for use in our model\n",
    "clusters = pd.read_csv(\"fromPreviousStudy/Clusters_500_orig.txt\")\n",
    "clusters = clusters.drop([\"Mark\"], axis=1)\n",
    "clusters.to_csv(\"clusters_test.csv\", index=None)"
   ]
  },
  {
   "cell_type": "code",
   "execution_count": 5,
   "metadata": {
    "collapsed": false
   },
   "outputs": [],
   "source": [
    "# Create and write file containing NSO suitability\n",
    "ent1 = {'stand': [],\n",
    "        'climateScenario': [],\n",
    "        'trtIn1': [],\n",
    "        'trtIn2': [],\n",
    "        'trtInNeither': [],\n",
    "        'trtInBoth': []}\n",
    "owl = pd.DataFrame(ent1)\n",
    "for stand in stands:\n",
    "    for clim in climProjections:\n",
    "        newRow = {'stand': stand,\n",
    "                  'climateScenario': clim,\n",
    "                  'trtIn1': True,\n",
    "                  'trtIn2': True,\n",
    "                  'trtInNeither': False,\n",
    "                  'trtInBoth': True}\n",
    "        owl = owl.append(newRow, ignore_index=True)\n",
    "owl = owl[[\"stand\",\"climateScenario\",\"trtInNeither\",\"trtIn1\",\"trtIn2\",\"trtInBoth\"]]\n",
    "owl.to_csv(\"standNSOCandidacy_wTrtTimes_test.csv\", index=None)"
   ]
  },
  {
   "cell_type": "code",
   "execution_count": 6,
   "metadata": {
    "collapsed": true
   },
   "outputs": [],
   "source": [
    "# Create and write file containing stand areas\n",
    "ent1 = {\"stand\": [], \"area\": []}\n",
    "areas = pd.DataFrame(ent1)\n",
    "for stand in stands:\n",
    "    newRow = {\"stand\": stand, \"area\": 150}\n",
    "    areas = areas.append(newRow, ignore_index=True)\n",
    "areas = areas[[\"stand\",\"area\"]]\n",
    "areas.to_csv(\"standAreas_test.csv\", index=None)"
   ]
  },
  {
   "cell_type": "code",
   "execution_count": 7,
   "metadata": {
    "collapsed": false
   },
   "outputs": [],
   "source": [
    "# Create and write the file containing fire hazard reduction coefficients\n",
    "ent1 = {'stand': [],\n",
    "        'climateScenario': [],\n",
    "        'trtIn1': [],\n",
    "        'trtIn2': [],\n",
    "        'trtInNeither': [],\n",
    "        'trtInBoth': []}\n",
    "fire = pd.DataFrame(ent1)\n",
    "for stand in stands:\n",
    "    for clim in climProjections:\n",
    "        newRow = {'stand': stand,\n",
    "                  'climateScenario': clim,\n",
    "                  'trtIn1': 4.,\n",
    "                  'trtIn2': 7.,\n",
    "                  'trtInNeither': -1.,\n",
    "                  'trtInBoth': 10.}\n",
    "        fire = fire.append(newRow, ignore_index=True)\n",
    "fire = fire[[\"stand\",\"climateScenario\",\"trtInNeither\",\"trtIn1\",\"trtIn2\",\"trtInBoth\"]]\n",
    "fire.to_csv(\"fire_test.csv\", index=None)"
   ]
  },
  {
   "cell_type": "code",
   "execution_count": null,
   "metadata": {
    "collapsed": true
   },
   "outputs": [],
   "source": []
  }
 ],
 "metadata": {
  "kernelspec": {
   "display_name": "Python 2",
   "language": "python",
   "name": "python2"
  },
  "language_info": {
   "codemirror_mode": {
    "name": "ipython",
    "version": 2
   },
   "file_extension": ".py",
   "mimetype": "text/x-python",
   "name": "python",
   "nbconvert_exporter": "python",
   "pygments_lexer": "ipython2",
   "version": "2.7.9"
  }
 },
 "nbformat": 4,
 "nbformat_minor": 0
}
