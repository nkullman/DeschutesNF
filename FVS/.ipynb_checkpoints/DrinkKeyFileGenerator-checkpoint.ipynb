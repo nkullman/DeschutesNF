{
 "cells": [
  {
   "cell_type": "code",
   "execution_count": 24,
   "metadata": {
    "collapsed": true
   },
   "outputs": [],
   "source": [
    "import pandas\n",
    "import numpy\n",
    "import xlsxwriter\n",
    "import csv\n",
    "\n",
    "from pandas import *\n",
    "from numpy import *"
   ]
  },
  {
   "cell_type": "code",
   "execution_count": null,
   "metadata": {
    "collapsed": false
   },
   "outputs": [],
   "source": [
    "# Import Excel files containing stand_ and tree_init tables\n",
    "standfcidinit = read_excel(\"D:/Users/nkullman/Documents/Deschutes_Drink/TreeData/FVSReady/GNN_Deschutes_FVS_working.xlsx\", sheetname = \"FVS_StandInit\")\n",
    "treeinit = read_excel(\"D:/Users/nkullman/Documents/Deschutes_Drink/TreeData/FVSReady/GNN_Deschutes_FVS_working.xlsx\", sheetname = \"FVS_TreeInit\")"
   ]
  },
  {
   "cell_type": "code",
   "execution_count": 17,
   "metadata": {
    "collapsed": true
   },
   "outputs": [],
   "source": [
    "# Needed to add quotes to the non-numeric fields in the ClimateAttrs file\n",
    "\n",
    "#climcsv = read_csv(\"D:/Users/nkullman/Documents/Deschutes_Drink/ClimateFVS_returnedData/Stand_GNNLevel/Stand_FCID/FVSClimAttrs_PAG.csv\")\n",
    "#climcsv.to_csv(\"D:/Users/nkullman/Documents/Deschutes_Drink/ClimateFVS_returnedData/Stand_GNNLevel/Stand_FCID/FVSClimAttrs_PAG_py.csv\",\n",
    "              #index=None, quoting=csv.QUOTE_NONNUMERIC)"
   ]
  },
  {
   "cell_type": "code",
   "execution_count": 26,
   "metadata": {
    "collapsed": false
   },
   "outputs": [
    {
     "data": {
      "text/plain": [
       "True"
      ]
     },
     "execution_count": 26,
     "metadata": {},
     "output_type": "execute_result"
    }
   ],
   "source": [
    "# The keyfile is composed of a suite of keywords repeated for each stand.\n",
    "# Immediately below are the methods to write different sections of each stand's \n",
    "# portion of the keyfile\n",
    "\n",
    "# Current keyfile being produced: exp11.key\n",
    "def writePreamble(outfile, standrowindex, standrow):\n",
    "    outfile.write(\"StdIdent\\n\")\n",
    "    outfile.write(standrow[\"Stand_CN\"] + \"\\n\\n\")\n",
    "    outfile.write(\"Screen\\n\\n\")\n",
    "    outfile.write(\"StandCN\\n\" + standrow[\"Stand_CN\"] + \"\\n\\n\")\n",
    "    \n",
    "def writeSimCycleKeys(outfile, standrowindex, standrow):\n",
    "    outfile.write(\"NumCycle          12\\n\")\n",
    "    outfile.write(\"StrClass\\n\\n\")\n",
    "    \n",
    "def writeFFEKeys(outfile, standrowindex, standrow):\n",
    "    outfile.write(\"FMIn\\n\")\n",
    "    outfile.write(\"PotFire            0      200.        1.\\n\")\n",
    "    outfile.write(\"End\\n\\n\")\n",
    "    \n",
    "def writeClimateKeys(outfile, standrowindex, standrow, climProj):\n",
    "    if climProj == \"none\":\n",
    "        break\n",
    "    outfile.write(\"MGMTID\\n\")\n",
    "    outfile.write(climProj + \"\\n\")\n",
    "    outfile.write(\"Climate\\n\")\n",
    "    outfile.write(\"ClimData\\n\")\n",
    "    outfile.write(climProj + \"\\n\")\n",
    "    outfile.write(\"D:/Users/nkullman/Documents/Deschutes_Drink/ClimateFVS_returnedData/Stand_GNNLevel/Stand_FCID/FVSClimAttrs_PAG.csv\\n\")\n",
    "    outfile.write(\"ClimRept\\n\")\n",
    "    outfile.write(\"End\\n\\n\")\n",
    "    \n",
    "def writeDatabaseKeys(outfile, standrowindex, standrow, firebool = True, expNum = 11):\n",
    "    outfile.write(\"Database\\n\")\n",
    "    outfile.write(\"DSNIN\\n\")\n",
    "    outfile.write(\"D:/Users/nkullman/Documents/Deschutes_Drink/TreeData/FVSReady/GNN_Deschutes_FVS_working.xlsx\\n\")\n",
    "    outfile.write(\"StandSQL\\n\")\n",
    "    outfile.write(\"SELECT *\\n\")\n",
    "    outfile.write(\"FROM [FVS_StandInit$]\\n\")\n",
    "    outfile.write(\"WHERE Stand_CN = '\" + standrow[\"Stand_CN\"] + \"'\\n\")\n",
    "    outfile.write(\"EndSQL\\n\")\n",
    "    outfile.write(\"TreeSQL\\n\")\n",
    "    outfile.write(\"SELECT *\\n\")\n",
    "    outfile.write(\"FROM [FVS_TreeInit$]\\n\")\n",
    "    outfile.write(\"WHERE Stand_CN = \" + standrow[\"Stand_CN\"][standrow[\"Stand_CN\"].find('_') + 1:standrow[\"Stand_CN\"].rfind('_')] + \"\\n\")\n",
    "    outfile.write(\"EndSQL\\n\")\n",
    "    outfile.write(\"DSNOUT\\n\")\n",
    "    outfile.write(\"D:/Users/nkullman/Documents/Deschutes_Drink/MyExperimentalFVSRuns/fvs_exp\" + str(expNum) + \"_out.xls\\n\")\n",
    "    outfile.write(\"Summary\\n\")\n",
    "    if firebool:\n",
    "        outfile.write(\"Potfire\\n\")\n",
    "    outfile.write(\"End\\n\\n\")\n",
    "    \n",
    "def writeEndOfStand(outfile):\n",
    "    outfile.write(\"Process\\n\")\n",
    "    outfile.write(\"*-----------------------------------*\\n\")    "
   ]
  },
  {
   "cell_type": "code",
   "execution_count": null,
   "metadata": {
    "collapsed": true
   },
   "outputs": [],
   "source": [
    "# Building a key file\n",
    "\n",
    "expnum = 12\n",
    "\n",
    "climprojects = [\"none\",\n",
    "                \"CCSM4_rcp45\", \"CCSM4_rcp60\", \"CCSM4_rcp85\",\n",
    "                \"Ensemble_rcp45\", \"Ensemble_rcp60\", \"Ensemble_rcp85\",\n",
    "                \"GFDLCM3_rcp45\",\"GFDLCM3_rcp60\",\"GFDLCM3_rcp85\",\n",
    "                \"HadGEM2ES_rcp45\",\"HadGEM2ES_rcp60\",\"HadGEM2ES_rcp85\"]\n",
    "\n",
    "\n",
    "with open(\"D:/Users/nkullman/Documents/Deschutes_Drink/MyExperimentalFVSRuns/exp\" + str(expnum) + \".key\", \"w\") as keyfile:\n",
    "    for clim in [0,4,6]:\n",
    "        for index, row in standfcidinit.iterrows():\n",
    "            if index > 4:\n",
    "                break  \n",
    "            writePreamble(keyfile, index, row)\n",
    "            writeSimCycleKeys(keyfile, index, row)\n",
    "            #writeFFEKeys(keyfile, index, row)\n",
    "            writeClimateKeys(keyfile, index, row, climprojects[clim])\n",
    "            writeDatabaseKeys(keyfile, index, row, firebool = False, expnum)\n",
    "            writeEndOfStand(keyfile)\n",
    "    keyfile.write(\"Stop\\n\")\n",
    "keyfile.closed"
   ]
  }
 ],
 "metadata": {
  "kernelspec": {
   "display_name": "Python 2",
   "language": "python",
   "name": "python2"
  },
  "language_info": {
   "codemirror_mode": {
    "name": "ipython",
    "version": 2
   },
   "file_extension": ".py",
   "mimetype": "text/x-python",
   "name": "python",
   "nbconvert_exporter": "python",
   "pygments_lexer": "ipython2",
   "version": "2.7.9"
  }
 },
 "nbformat": 4,
 "nbformat_minor": 0
}
