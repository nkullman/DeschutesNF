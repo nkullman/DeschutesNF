{
 "cells": [
  {
   "cell_type": "code",
   "execution_count": 1,
   "metadata": {
    "collapsed": true
   },
   "outputs": [],
   "source": [
    "import pandas as pd\n",
    "import numpy as np"
   ]
  },
  {
   "cell_type": "code",
   "execution_count": 69,
   "metadata": {
    "collapsed": false
   },
   "outputs": [
    {
     "name": "stdout",
     "output_type": "stream",
     "text": [
      "8\n",
      "13\n",
      "9\n"
     ]
    }
   ],
   "source": [
    "owl = pd.read_csv(\"../../CPLEX/data/standNSOCandidacy_wTrtTimes_raw.csv\")\n",
    "# get only those stands that qualify when no treatment performed\n",
    "owl = owl[owl[\"none\"]]\n",
    "# count number of stands for which a treatment prescription leads to a disqualification of owl habitat\n",
    "# first assuming no climate change:\n",
    "dfnone = owl[owl[\"climateScenario\"] == \"NONE\"]\n",
    "numnoneDQs = 0\n",
    "for idx,row in dfnone.iterrows():\n",
    "    numnoneDQs += (4 - sum(row[\"none\":]))\n",
    "print str(numnoneDQs)\n",
    "# assuming extreme climate change\n",
    "dfe85 = owl[owl[\"climateScenario\"] == \"Ensemble_rcp85\"]\n",
    "nume85DQs = 0\n",
    "for idx,row in dfe85.iterrows():\n",
    "    nume85DQs += (4 - sum(row[\"none\":]))\n",
    "print str(nume85DQs)\n",
    "# assuming mild climate change\n",
    "dfe45 = owl[owl[\"climateScenario\"] == \"Ensemble_rcp45\"]\n",
    "nume45DQs = 0\n",
    "for idx,row in dfe45.iterrows():\n",
    "    nume45DQs += (4 - sum(row[\"none\":]))\n",
    "print str(nume45DQs)"
   ]
  }
 ],
 "metadata": {
  "kernelspec": {
   "display_name": "Python 2",
   "language": "python",
   "name": "python2"
  },
  "language_info": {
   "codemirror_mode": {
    "name": "ipython",
    "version": 2
   },
   "file_extension": ".py",
   "mimetype": "text/x-python",
   "name": "python",
   "nbconvert_exporter": "python",
   "pygments_lexer": "ipython2",
   "version": "2.7.9"
  }
 },
 "nbformat": 4,
 "nbformat_minor": 0
}
