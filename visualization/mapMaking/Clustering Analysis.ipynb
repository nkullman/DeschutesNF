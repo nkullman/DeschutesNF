{
 "cells": [
  {
   "cell_type": "code",
   "execution_count": 2,
   "metadata": {
    "collapsed": true
   },
   "outputs": [],
   "source": [
    "import pandas as pd\n",
    "import numpy as np"
   ]
  },
  {
   "cell_type": "code",
   "execution_count": 10,
   "metadata": {
    "collapsed": false
   },
   "outputs": [
    {
     "data": {
      "text/plain": [
       "0     142\n",
       "1     152\n",
       "2     154\n",
       "3     157\n",
       "4     151\n",
       "5     155\n",
       "6     156\n",
       "7     157\n",
       "8     157\n",
       "9     156\n",
       "10    158\n",
       "11    155\n",
       "12    152\n",
       "13    158\n",
       "14    157\n",
       "15    158\n",
       "16    157\n",
       "17    156\n",
       "18    159\n",
       "19    159\n",
       "20    158\n",
       "21    157\n",
       "22    157\n",
       "23    155\n",
       "24    158\n",
       "25    154\n",
       "26    155\n",
       "27    155\n",
       "28    155\n",
       "29    157\n",
       "30    157\n",
       "31    155\n",
       "32    155\n",
       "33    158\n",
       "34    156\n",
       "35    157\n",
       "36    159\n",
       "37    159\n",
       "38    159\n",
       "39    159\n",
       "40    159\n",
       "41    159\n",
       "42    159\n",
       "43    156\n",
       "44    157\n",
       "45    157\n",
       "46    157\n",
       "47    158\n",
       "48    159\n",
       "49    159\n",
       "50    157\n",
       "51    157\n",
       "52    157\n",
       "53    155\n",
       "54    155\n",
       "55    155\n",
       "56    155\n",
       "Length: 57, dtype: float64"
      ]
     },
     "execution_count": 10,
     "metadata": {},
     "output_type": "execute_result"
    }
   ],
   "source": [
    "sols = pd.read_csv(\"../../visualization/mapMaking/nsoClusteringData.txt\")\n",
    "pcolsdf = sols[[x for x in sols.columns.tolist() if x[0] == 'p']].sum(axis = 1)\n",
    "pcolsdf"
   ]
  }
 ],
 "metadata": {
  "kernelspec": {
   "display_name": "Python 2",
   "language": "python",
   "name": "python2"
  },
  "language_info": {
   "codemirror_mode": {
    "name": "ipython",
    "version": 2
   },
   "file_extension": ".py",
   "mimetype": "text/x-python",
   "name": "python",
   "nbconvert_exporter": "python",
   "pygments_lexer": "ipython2",
   "version": "2.7.9"
  }
 },
 "nbformat": 4,
 "nbformat_minor": 0
}
